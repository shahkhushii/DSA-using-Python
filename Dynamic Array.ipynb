{
 "cells": [
  {
   "cell_type": "code",
   "execution_count": 295,
   "id": "89e39f84-2cab-4f10-bdb3-81c0721cea92",
   "metadata": {},
   "outputs": [],
   "source": [
    "import ctypes"
   ]
  },
  {
   "cell_type": "code",
   "execution_count": 296,
   "id": "63fbdb57-93ab-4c1c-9bd7-229ac841c2fd",
   "metadata": {},
   "outputs": [],
   "source": [
    "class mylist:\n",
    "    def __init__(self):\n",
    "        self.size=1\n",
    "        self.n=0\n",
    "        self.A=self.__make_array(self.size)\n",
    "\n",
    "    \n",
    "    def __make_array(self,capacity):\n",
    "        return (capacity*ctypes.py_object)()\n",
    "\n",
    "    \n",
    "    def __len__(self):\n",
    "        return self.n\n",
    "\n",
    "\n",
    "    def append(self,item):\n",
    "        if self.n==self.size:\n",
    "            self.__resize(self.size*2)\n",
    "\n",
    "        self.A[self.n]=item\n",
    "        self.n=self.n+1\n",
    "\n",
    "    \n",
    "    def __resize(self,new_capacity):\n",
    "        B=self.__make_array(new_capacity)\n",
    "        self.size=new_capacity\n",
    "\n",
    "        for i in range(self.n):\n",
    "            B[i]=self.A[i]\n",
    "        self.A=B\n",
    "\n",
    "    \n",
    "    def __str__(self):\n",
    "        result=''\n",
    "        for i in range(self.n):\n",
    "            result=result+str(self.A[i])+','\n",
    "        return '['+result[:-1]+']'\n",
    "\n",
    "\n",
    "    def __getitem__(self,index):\n",
    "        if index<=self.n:\n",
    "            return self.A[index]\n",
    "        else:\n",
    "            return 'Index Error'\n",
    "\n",
    "\n",
    "    def pop(self):\n",
    "        if self.n==0:\n",
    "            return 'Empty List'\n",
    "        else:\n",
    "            self.n=self.n-1\n",
    "\n",
    "\n",
    "    def clear(self):\n",
    "        self.n=0\n",
    "        self.size=1\n",
    "\n",
    "    def insert(self,pos,item):\n",
    "        if self.n==self.size:\n",
    "            self.__resize(self.size*2)\n",
    "        for i in range (self.n,pos-1):\n",
    "            self.A[i]=self.A[i-1]\n",
    "        self.A[pos]=item\n",
    "        self.n=self.n+1\n",
    "\n",
    "    def delete(self,pos):\n",
    "        if 0<=pos<self.n:\n",
    "            for i in range (pos,self.n-1):\n",
    "                self.A[i]=self.A[i+1]\n",
    "            self.n=self.n-1"
   ]
  },
  {
   "cell_type": "code",
   "execution_count": 297,
   "id": "f9fcba29-6e5c-4f2e-8280-02b2db25f299",
   "metadata": {},
   "outputs": [
    {
     "data": {
      "text/plain": [
       "__main__.mylist"
      ]
     },
     "execution_count": 297,
     "metadata": {},
     "output_type": "execute_result"
    }
   ],
   "source": [
    "List=mylist()\n",
    "type(List)"
   ]
  },
  {
   "cell_type": "code",
   "execution_count": 298,
   "id": "ab7605e3-5238-4d08-ae48-9e6906ff120f",
   "metadata": {},
   "outputs": [
    {
     "data": {
      "text/plain": [
       "0"
      ]
     },
     "execution_count": 298,
     "metadata": {},
     "output_type": "execute_result"
    }
   ],
   "source": [
    "len(List)"
   ]
  },
  {
   "cell_type": "code",
   "execution_count": 299,
   "id": "e713bdbb-5c45-43be-ad0d-30b5a669d4a5",
   "metadata": {},
   "outputs": [],
   "source": [
    "List.append(2)\n",
    "List.append(3)"
   ]
  },
  {
   "cell_type": "code",
   "execution_count": 300,
   "id": "285da418-ec09-4580-a9af-10f00009ce25",
   "metadata": {},
   "outputs": [
    {
     "name": "stdout",
     "output_type": "stream",
     "text": [
      "[2,3]\n"
     ]
    }
   ],
   "source": [
    "print(List)"
   ]
  },
  {
   "cell_type": "code",
   "execution_count": 301,
   "id": "6f225635-8e84-4d73-b50e-f606818779a1",
   "metadata": {},
   "outputs": [
    {
     "data": {
      "text/plain": [
       "3"
      ]
     },
     "execution_count": 301,
     "metadata": {},
     "output_type": "execute_result"
    }
   ],
   "source": [
    "List[1]"
   ]
  },
  {
   "cell_type": "code",
   "execution_count": 302,
   "id": "7a17e832-324d-47c0-8126-d8b60e519467",
   "metadata": {},
   "outputs": [
    {
     "name": "stdout",
     "output_type": "stream",
     "text": [
      "[2]\n"
     ]
    }
   ],
   "source": [
    "List.pop()\n",
    "print(List)"
   ]
  },
  {
   "cell_type": "code",
   "execution_count": 303,
   "id": "08f60547-f2db-46bb-b6c1-71a885aaa044",
   "metadata": {},
   "outputs": [
    {
     "name": "stdout",
     "output_type": "stream",
     "text": [
      "[]\n"
     ]
    }
   ],
   "source": [
    "List.clear()\n",
    "print(List)"
   ]
  },
  {
   "cell_type": "code",
   "execution_count": 304,
   "id": "473efc05-fd11-444e-998e-d2ad7e31c870",
   "metadata": {},
   "outputs": [
    {
     "name": "stdout",
     "output_type": "stream",
     "text": [
      "[2]\n"
     ]
    }
   ],
   "source": [
    "List.insert(0,2)\n",
    "print(List)"
   ]
  },
  {
   "cell_type": "code",
   "execution_count": 305,
   "id": "31279e77-3a2e-4b45-9838-b3907e5e309b",
   "metadata": {},
   "outputs": [
    {
     "name": "stdout",
     "output_type": "stream",
     "text": [
      "[2,3]\n"
     ]
    }
   ],
   "source": [
    "List.insert(1,3)\n",
    "print(List)"
   ]
  },
  {
   "cell_type": "code",
   "execution_count": 306,
   "id": "629c26d4-a616-415e-bef7-ea5adb19de5c",
   "metadata": {},
   "outputs": [
    {
     "name": "stdout",
     "output_type": "stream",
     "text": [
      "[2]\n"
     ]
    }
   ],
   "source": [
    "List.delete(1)\n",
    "print(List)"
   ]
  },
  {
   "cell_type": "markdown",
   "id": "55100683-5e13-488f-8d37-3a435c646d53",
   "metadata": {},
   "source": [
    " ### ACTUAL LIST"
   ]
  },
  {
   "cell_type": "code",
   "execution_count": 213,
   "id": "1684be21-0860-4a6b-bce5-ab9513c5fe08",
   "metadata": {},
   "outputs": [
    {
     "data": {
      "text/plain": [
       "list"
      ]
     },
     "execution_count": 213,
     "metadata": {},
     "output_type": "execute_result"
    }
   ],
   "source": [
    "L=[]\n",
    "type(L)"
   ]
  },
  {
   "cell_type": "code",
   "execution_count": 214,
   "id": "2e4a55ac-cb4c-40b7-bd3c-721237c90d53",
   "metadata": {},
   "outputs": [
    {
     "data": {
      "text/plain": [
       "0"
      ]
     },
     "execution_count": 214,
     "metadata": {},
     "output_type": "execute_result"
    }
   ],
   "source": [
    "len(L)"
   ]
  },
  {
   "cell_type": "code",
   "execution_count": 215,
   "id": "016686c1-edd2-4488-bfc7-b9b43be3bd08",
   "metadata": {},
   "outputs": [],
   "source": [
    "L.append(1)\n",
    "L.append(2)"
   ]
  },
  {
   "cell_type": "code",
   "execution_count": 216,
   "id": "77235364-e731-4327-bb8d-360b23ea20ab",
   "metadata": {},
   "outputs": [
    {
     "name": "stdout",
     "output_type": "stream",
     "text": [
      "[1, 2]\n"
     ]
    }
   ],
   "source": [
    "print(L)"
   ]
  },
  {
   "cell_type": "code",
   "execution_count": 217,
   "id": "5a1d612b-ce17-41ca-b118-4786416910a0",
   "metadata": {},
   "outputs": [
    {
     "data": {
      "text/plain": [
       "1"
      ]
     },
     "execution_count": 217,
     "metadata": {},
     "output_type": "execute_result"
    }
   ],
   "source": [
    "L[0]"
   ]
  },
  {
   "cell_type": "code",
   "execution_count": 218,
   "id": "af39f1a1-2605-415c-b71e-e882224c10c7",
   "metadata": {},
   "outputs": [
    {
     "data": {
      "text/plain": [
       "2"
      ]
     },
     "execution_count": 218,
     "metadata": {},
     "output_type": "execute_result"
    }
   ],
   "source": [
    "L.pop()"
   ]
  },
  {
   "cell_type": "code",
   "execution_count": 308,
   "id": "117d376e-e1b6-44d2-b3a8-bc489207f971",
   "metadata": {},
   "outputs": [
    {
     "data": {
      "text/plain": [
       "[]"
      ]
     },
     "execution_count": 308,
     "metadata": {},
     "output_type": "execute_result"
    }
   ],
   "source": [
    "L.clear()\n",
    "L"
   ]
  },
  {
   "cell_type": "code",
   "execution_count": 309,
   "id": "37908023-194c-4500-8897-be4bcfddb4d9",
   "metadata": {},
   "outputs": [
    {
     "data": {
      "text/plain": [
       "[2, 3]"
      ]
     },
     "execution_count": 309,
     "metadata": {},
     "output_type": "execute_result"
    }
   ],
   "source": [
    "L.insert(1,3)\n",
    "L.insert(0,2)\n",
    "L"
   ]
  },
  {
   "cell_type": "code",
   "execution_count": null,
   "id": "8318c13d-ec1d-46f2-abde-667c37e38fe9",
   "metadata": {},
   "outputs": [],
   "source": []
  }
 ],
 "metadata": {
  "kernelspec": {
   "display_name": "Python 3 (ipykernel)",
   "language": "python",
   "name": "python3"
  },
  "language_info": {
   "codemirror_mode": {
    "name": "ipython",
    "version": 3
   },
   "file_extension": ".py",
   "mimetype": "text/x-python",
   "name": "python",
   "nbconvert_exporter": "python",
   "pygments_lexer": "ipython3",
   "version": "3.11.7"
  }
 },
 "nbformat": 4,
 "nbformat_minor": 5
}
